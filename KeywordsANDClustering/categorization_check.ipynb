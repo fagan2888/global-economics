{
 "cells": [
  {
   "cell_type": "code",
   "execution_count": 2,
   "metadata": {
    "collapsed": true
   },
   "outputs": [],
   "source": [
    "import os, sys, re, csv\n",
    "import heapq\n",
    "import string\n",
    "import gensim\n",
    "import itertools\n",
    "import json\n",
    "from operator import itemgetter\n",
    "import nltk\n",
    "from nltk import *\n",
    "import pandas as pd\n",
    "import numpy as np\n",
    "from sklearn.externals import joblib\n",
    "from sklearn.metrics import silhouette_samples, silhouette_score\n",
    "from sklearn.metrics.pairwise import euclidean_distances\n",
    "import matplotlib.pyplot as plt\n",
    "import matplotlib"
   ]
  },
  {
   "cell_type": "code",
   "execution_count": 3,
   "metadata": {
    "collapsed": false
   },
   "outputs": [],
   "source": [
    "# run this just in case something doesnt work out with corpus\n",
    "def get_data():\n",
    "    path1 = '/Users/dariaulybina/Desktop/georgetown-analytics_global-economics/global-economics/KeywordsANDClustering/FinalCleanJuly1.json'\n",
    "    with open(path1) as datafile:\n",
    "        data = json.load(datafile)\n",
    "        datafile.close()\n",
    "    return data\n",
    "evrth = get_data()"
   ]
  },
  {
   "cell_type": "code",
   "execution_count": null,
   "metadata": {
    "collapsed": true
   },
   "outputs": [],
   "source": [
    "reader = CategorizedPlaintextCorpusReader('/Users/dariaulybina/Desktop/georgetown-analytics_global-economics/global-economics/KeywordsANDClustering/corpusCategory/', r'\\w+\\d+_.*\\.txt', cat_map=maindict)\n",
    "fids = reader.fileids() #names of files\n",
    "example = reader.raw(fileids = 'Zambia2013_5.txt') #example for testing\n",
    "#Check if you can see the category per assigned id\n",
    "print(reader.categories(fileids = 'Zambia2013_5.txt'))\n",
    "#Check if you can see all the categories available\n",
    "print(\"All categories: {}\".format(reader.categories())) #print all categories in a list\n",
    "#Check all file names assigned to 1 category\n",
    "# This sample is too small and has to be combined with other category !!!!!!!\n",
    "print(reader.fileids(categories=['Monetary']))"
   ]
  }
 ],
 "metadata": {
  "kernelspec": {
   "display_name": "Python [conda env:envr]",
   "language": "python",
   "name": "conda-env-envr-py"
  },
  "language_info": {
   "codemirror_mode": {
    "name": "ipython",
    "version": 3
   },
   "file_extension": ".py",
   "mimetype": "text/x-python",
   "name": "python",
   "nbconvert_exporter": "python",
   "pygments_lexer": "ipython3",
   "version": "3.5.2"
  }
 },
 "nbformat": 4,
 "nbformat_minor": 2
}
