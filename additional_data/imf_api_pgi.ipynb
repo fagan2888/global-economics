{
 "cells": [
  {
   "cell_type": "code",
   "execution_count": 1,
   "metadata": {
    "collapsed": true
   },
   "outputs": [],
   "source": [
    "import requests\n",
    "import pandas as pd\n",
    "import csv, re, sys, os"
   ]
  },
  {
   "cell_type": "code",
   "execution_count": 2,
   "metadata": {
    "collapsed": false
   },
   "outputs": [
    {
     "name": "stdout",
     "output_type": "stream",
     "text": [
      "83\n",
      "DS-FAS: Financial Access Survey (FAS)\n",
      "DS-IFS: International Financial Statistics (IFS)\n",
      "DS-MCDREO: Middle East and Central Asia Regional Economic Outlook (MCDREO)\n",
      "DS-DOT: Direction of Trade Statistics (DOTS)\n",
      "DS-CDIS: Coordinated Direct Investment Survey (CDIS)\n",
      "DS-GFS01M: Government Finance Statistics (GFS 2001) - Multidimensional\n",
      "DS-GFS01: Government Finance Statistics (GFS 2001)\n",
      "DS-BOP: Balance of Payments (BOP)\n",
      "DS-BOPAGG: Balance of Payments (BOP), World and Regional Aggregates\n",
      "DS-CPIS: Coordinated Portfolio Investment Survey (CPIS)\n",
      "DS-APDREO: Asia and Pacific Regional Economic Outlook (APDREO)\n",
      "DS-FM: Fiscal Monitor (FM)\n",
      "DS-AFRREO: Sub-Saharan Africa Regional Economic Outlook (AFRREO)\n",
      "DS-MCDREO201410: MCD Regional Economic Outlook October 2014\n",
      "DS-FM201410: Fiscal Monitor (FM) October 2014\n",
      "DS-AFRREO201410: Sub-Saharan Africa Regional Economic Outlook (AFRREO) October 2014\n",
      "DS-MCDREO201501: MCD Regional Economic Outlook January 2015\n",
      "DS-APDREO201410: Asia and Pacific Regional Economic Outlook (APDREO) October 2014\n",
      "DS-COMMP: Primary Commodity Prices\n",
      "DS-COMMPP: Primary Commodity Prices Projections\n",
      "DS-WoRLD: World Revenue Longitudinal Data (WoRLD)\n",
      "DS-GFSR: Government Finance Statistics (GFS), Revenue\n",
      "DS-GFSSSUC: Government Finance Statistics (GFS), Statement of Sources and Uses of Cash\n",
      "DS-GFSCOFOG: Government Finance Statistics (GFS), Expenditure by Function of Government (COFOG)\n",
      "DS-GFSFALCS: Government Finance Statistics (GFS), Financial Assets and Liabilities by Counterpart Sector\n",
      "DS-GFSIBS: Government Finance Statistics (GFS), Integrated Balance Sheet (Stock Positions and Flows in Assets and Liabilities)\n",
      "DS-GFSMAB: Government Finance Statistics (GFS), Main Aggregates and Balances\n",
      "DS-GFSE: Government Finance Statistics (GFS), Expense\n",
      "DS-PGI: Principal Global Indicators (PGI)\n",
      "DS-WHDREO201504: Western Hemisphere Regional Economic Outlook (WHDREO) April 2015\n",
      "DS-WCED: World Commodity Exporters (WCED)\n",
      "DS-WHDREO: Western Hemisphere Regional Economic Outlook (WHDREO)\n",
      "DS-FM201504: Fiscal Monitor (FM) April 2015\n",
      "DS-APDREO201504: Asia and Pacific Regional Economic Outlook (APDREO) April 2015\n",
      "DS-MCDREO201505: MCD Regional Economic Outlook May 2015\n",
      "DS-AFRREO201504: Sub-Saharan Africa Regional Economic Outlook (AFRREO) April 2015\n",
      "DS-CDISARCHIVE: Coordinated Direct Investment Survey (CDIS) - Archive\n",
      "DS-ICSD: Investment and Capital Stock (ICSD)\n",
      "DS-HPDD: Historical Public Debt (HPDD)\n",
      "DS-COFR: Coverage of Fiscal Reporting (COFR)\n",
      "DS-CPI: Consumer Price Index (CPI)\n",
      "DS-IRFCL: International Reserves and Foreign Currency Liquidity (IRFCL)\n",
      "DS-COFER: Currency Composition of Official Foreign Exchange Reserves (COFER)\n",
      "DS-FM201510: Fiscal Monitor (FM) October 2015\n",
      "DS-RAFIT2AGG: Revenue Administration Fiscal Information Tool (RA-FIT) Round 2 Aggregates\n",
      "DS-ITS: International Trade in Services\n",
      "DS-MCDREO201510: MCD Regional Economic Outlook (MCDREO) October 2015\n",
      "DS-WHDREO201510: Western Hemisphere Regional Economic Outlook (WHDREO) October 2015\n",
      "DS-APDREO201510: Asia and Pacific Regional Economic Outlook (APDREO) October 2015\n",
      "DS-AFRREO201510: Sub-Saharan Africa Regional Economic Outlook (AFRREO) October 2015\n",
      "DS-GFSYR2014: Government Finance Statistics Yearbook (GFSY 2014), Revenue\n",
      "DS-GFSYSSUC2014: Government Finance Statistics Yearbook (GFSY 2014), Statement of Sources and Uses of Cash\n",
      "DS-GFSYCOFOG2014: Government Finance Statistics Yearbook (GFSY 2014), Expenditure by Function of Government (COFOG)\n",
      "DS-GFSYIBS2014: Government Finance Statistics Yearbook (GFSY 2014), Integrated Balance Sheet (Stock Positions and Flows in Assets and Liabilities)\n",
      "DS-GFSYMAB2014: Government Finance Statistics Yearbook (GFSY 2014), Main Aggregates and Balances\n",
      "DS-GFSYFALCS2014: Government Finance Statistics Yearbook (GFSY 2014), Financial Assets and Liabilities by Counterpart Sector\n",
      "DS-GFSYE2014: Government Finance Statistics Yearbook (GFSY 2014), Expense\n",
      "DS-GFSIBS2015: Government Finance Statistics Yearbook (GFSY 2015), Integrated Balance Sheet (Stock Positions and Flows in Assets and Liabilities)\n",
      "DS-GFSR2015: Government Finance Statistics Yearbook (GFSY 2015), Revenue\n",
      "DS-GFSFALCS2015: Government Finance Statistics Yearbook (GFSY 2015), Financial Assets and Liabilities by Counterpart Sector\n",
      "DS-GFSSSUC2015: Government Finance Statistics Yearbook (GFSY 2015), Statement of Sources and Uses of Cash\n",
      "DS-GFSMAB2015: Government Finance Statistics Yearbook (GFSY 2015), Main Aggregates and Balances\n",
      "DS-GFSCOFOG2015: Government Finance Statistics Yearbook (GFSY 2015), Expenditure by Function of Government (COFOG)\n",
      "DS-GFSE2015: Government Finance Statistics Yearbook (GFSY 2015), Expense\n",
      "DS-BOPSDMXUSD: Balance of Payments (BOP), Global SDMX (US Dollars)\n",
      "DS-NAMAIN_IDC_N: System of National Accounts (SNA), NAMAIN_IDC_N\n",
      "DS-FM201604: Fiscal Monitor (FM) April 2016\n",
      "DS-APDREO201604: Asia and Pacific Regional Economic Outlook (APDREO) April 2016\n",
      "DS-WHDREO201604: Western Hemisphere Regional Economic Outlook (WHDREO) April 2016\n",
      "DS-MCDREO201604: MCD Regional Economic Outlook (MCDREO) April 2016\n",
      "DS-AFRREO201604: Sub-Saharan Africa Regional Economic Outlook (AFRREO) April 2016\n",
      "DS-GENDER_BUDGETING: Gender Budgeting\n",
      "DS-GENDER_EQUALITY: Gender Equality\n",
      "DS-FDI: Financial Development Index\n",
      "DS-FSI: Financial Soundness Indicators (FSI)\n",
      "DS-FSIRE: Financial Soundness Indicators, Reporting Entities (FS1)\n",
      "DS-GFSSSUC2016: Government Finance Statistics Yearbook (GFSY 2016), Statement of Sources and Uses of Cash\n",
      "DS-GFSR2016: Government Finance Statistics Yearbook (GFSY 2016), Revenue\n",
      "DS-GFSMAB2016: Government Finance Statistics Yearbook (GFSY 2016), Main Aggregates and Balances\n",
      "DS-GFSIBS2016: Government Finance Statistics Yearbook (GFSY 2016), Integrated Balance Sheet (Stock Positions and Flows in Assets and Liabilities)\n",
      "DS-GFSFALCS2016: Government Finance Statistics Yearbook (GFSY 2016), Financial Assets and Liabilities by Counterpart Sector\n",
      "DS-GFSE2016: Government Finance Statistics Yearbook (GFSY 2016), Expense\n",
      "DS-GFSCOFOG2016: Government Finance Statistics Yearbook (GFSY 2016), Expenditure by Function of Government (COFOG)\n"
     ]
    }
   ],
   "source": [
    "# Find the series id and text name.\n",
    "url = 'http://dataservices.imf.org/REST/SDMX_JSON.svc/Dataflow/'\n",
    "seriesids = requests.get(url).json()\n",
    "df = pd.DataFrame(seriesids['Structure']['Dataflows']['Dataflow'])\n",
    "print(len(df))\n",
    "for x in range(0, 83):\n",
    "     items = (str(df['@id'][x]), str(df['Name'][x]['#text']))\n",
    "     print(': '.join(items))"
   ]
  },
  {
   "cell_type": "code",
   "execution_count": 23,
   "metadata": {
    "collapsed": false
   },
   "outputs": [
    {
     "name": "stdout",
     "output_type": "stream",
     "text": [
      "4\n",
      "Latest Update Date: 04/14/2017\n",
      "Name: Principal Global Indicators (PGI)\n",
      "Code: PGI\n",
      "Definition: The Principal Global Indicators (PGI) dataset provides internationally comparable data for the Group of 20 economies (G-20) and economies with systemically important financial sectors that are not members of the G-20. The PGI facilitates the monitoring of economic and financial developments for these jurisdictions. Launched in 2009, the PGI website is hosted by the IMF and is a joint undertaking of the Inter-Agency Group of Economic and Financial Statistics (IAG).  \n"
     ]
    }
   ],
   "source": [
    "# Annotations for the series\n",
    "url = \"http://dataservices.imf.org/REST/SDMX_JSON.svc/DataStructure/PGI\"\n",
    "dotstruct = requests.get(url).json()\n",
    "df = pd.DataFrame(dotstruct['Structure']['KeyFamilies']\\\n",
    "     ['KeyFamily']['Annotations'])\n",
    "print(len(df))\n",
    "for x in range(0, 4): \n",
    "     items = (str(df['Annotation'][x]['AnnotationTitle']), \\\n",
    "     str(df['Annotation'][x]['AnnotationText']['#text']))\n",
    "     print(': '.join(items))"
   ]
  },
  {
   "cell_type": "code",
   "execution_count": 40,
   "metadata": {
    "collapsed": false
   },
   "outputs": [
    {
     "name": "stdout",
     "output_type": "stream",
     "text": [
      "3\n",
      "Dimension: 1: CL_FREQ\n",
      "Dimension: 2: CL_AREA_PGI\n",
      "Dimension: 3: CL_INDICATOR_PGI\n"
     ]
    }
   ],
   "source": [
    "# Look at structure of IFS data to find the dimensions for our data request\n",
    "url = \"http://dataservices.imf.org/REST/SDMX_JSON.svc/DataStructure/PGI\"\n",
    "dotstruct = requests.get(url).json()\n",
    "df = pd.DataFrame(dotstruct['Structure']['KeyFamilies']['KeyFamily']\\\n",
    "          ['Components']['Dimension'])\n",
    "print(len(df))\n",
    "for x in range(0, 3): \n",
    "     items = (\"Dimension\", str(x+1), str(df['@codelist'][x]))\n",
    "     print(': '.join(items))"
   ]
  },
  {
   "cell_type": "code",
   "execution_count": 41,
   "metadata": {
    "collapsed": false
   },
   "outputs": [
    {
     "name": "stdout",
     "output_type": "stream",
     "text": [
      "89\n",
      "AF: Afghanistan\n",
      "DZ: Algeria\n",
      "AR: Argentina\n",
      "AM: Armenia\n",
      "AU: Australia\n",
      "AT: Austria\n",
      "BY: Belarus\n",
      "BE: Belgium\n",
      "BT: Bhutan\n",
      "BA: Bosnia and Herzegovina\n",
      "BR: Brazil\n",
      "BN: Brunei Darussalam\n",
      "BG: Bulgaria\n",
      "CA: Canada\n",
      "CL: Chile\n",
      "HK: Hong Kong, China\n",
      "CN: China\n",
      "CO: Colombia\n",
      "CR: Costa Rica\n",
      "HR: Croatia\n",
      "CY: Cyprus\n",
      "CZ: Czech Republic\n",
      "DK: Denmark\n",
      "EC: Ecuador\n",
      "SV: El Salvador\n",
      "EE: Estonia\n",
      "U2: Euro area (Member States and Institutions of the Euro Area) changing composition\n",
      "FI: Finland\n",
      "FR: France\n",
      "GE: Georgia\n",
      "DE: Germany\n",
      "GR: Greece\n",
      "HN: Honduras\n",
      "HU: Hungary\n",
      "IN: India\n",
      "ID: Indonesia\n",
      "IE: Ireland\n",
      "IL: Israel\n",
      "IT: Italy\n",
      "JP: Japan\n",
      "KZ: Kazakhstan\n",
      "KE: Kenya\n",
      "KR: Korea, Republic of\n",
      "XK: Kosovo\n",
      "LV: Latvia\n",
      "LB: Lebanon\n",
      "LT: Lithuania\n",
      "LU: Luxembourg\n",
      "MK: Macedonia, The Former Yugoslav Republic of\n",
      "MY: Malaysia\n",
      "MT: Malta\n",
      "MU: Mauritius\n",
      "MX: Mexico\n",
      "MD: Moldova, Republic of\n",
      "NL: Netherlands\n",
      "NO: Norway\n",
      "PK: Pakistan\n",
      "PY: Paraguay\n",
      "PE: Peru\n",
      "PH: Philippines\n",
      "PL: Poland\n",
      "PT: Portugal\n",
      "RO: Romania\n",
      "RU: Russian Federation\n",
      "SA: Saudi Arabia\n",
      "SC: Seychelles\n",
      "SG: Singapore\n",
      "SK: Slovakia\n",
      "SI: Slovenia\n",
      "ZA: South Africa\n",
      "ES: Spain\n",
      "LK: Sri Lanka\n",
      "SE: Sweden\n",
      "CH: Switzerland\n",
      "TR: Turkey\n",
      "UG: Uganda\n",
      "UA: Ukraine\n",
      "GB: United Kingdom\n",
      "US: United States\n",
      "UY: Uruguay\n",
      "UZ: Uzbekistan\n",
      "PS: Palestine, State of\n",
      "1C_ALLC: All Countries\n",
      "1C_ALL: All Countries and Country Groups\n",
      "1C_ALLG: All Country Groups\n",
      "R22: G20 (Argentina, Australia, Brazil, Canada, China, European Union, France, Germany, India,Indonesia, Italy, Japan, Mexico, Russia, Saudi Arabia, South Africa, South Korea, Turkey, United Kingdom, United States)\n",
      "1C_PGI_Countries_Group: PGI Countries Group\n",
      "1C_PGI_Euro_Group: PGI Euro Group\n",
      "W00: All Countries, excluding the IO\n"
     ]
    }
   ],
   "source": [
    "# Obtain country codes\n",
    "url = \"http://dataservices.imf.org/REST/SDMX_JSON.svc/CodeList/CL_AREA_PGI\"\n",
    "country = requests.get(url).json()\n",
    "df = pd.DataFrame(country['Structure']['CodeLists']['CodeList']['Code'])\n",
    "print(len(df))\n",
    "for x in range(0, len(df)): \n",
    "     items = (str(df['@value'][x]), str(df['Description'][x]['#text']))\n",
    "        \n",
    "     print(': '.join(items))"
   ]
  },
  {
   "cell_type": "code",
   "execution_count": 43,
   "metadata": {
    "collapsed": false
   },
   "outputs": [
    {
     "name": "stdout",
     "output_type": "stream",
     "text": [
      "81\n",
      "81\n"
     ]
    }
   ],
   "source": [
    "def check_codes(item_code):\n",
    "    #no_list = ['1C_473','1C_459','CS','1C_568','PM','SH','1C_356','5H','7B','x0','1E','1C_977','4F','U2','5I','CSH','1C_355','1C_752','R1','5B','5W','5M','YUC']\n",
    "    no_list = ['U2','1C_PGI_Countries_Group','1C_ALLC','1C_ALL','R22','1C_PGI_Euro_Group','W00','1C_ALLG']\n",
    "    if item_code in no_list:\n",
    "        return False\n",
    "    else:\n",
    "        return True\n",
    "    \n",
    "all_names = []\n",
    "all_codes = []\n",
    "#print(len(df))\n",
    "for x in range(0, len(df)):\n",
    "    item_code = str(df['@value'][x])\n",
    "    item_name = str(df['Description'][x]['#text'])\n",
    "    if check_codes(item_code):\n",
    "        all_names.append(item_name)\n",
    "        all_codes.append(item_code)\n",
    "    else:\n",
    "        pass\n",
    "print(len(all_names))\n",
    "print(len(all_codes))"
   ]
  },
  {
   "cell_type": "code",
   "execution_count": 46,
   "metadata": {
    "collapsed": false
   },
   "outputs": [],
   "source": [
    "url = \"http://dataservices.imf.org/REST/SDMX_JSON.svc/CodeList/CL_INDICATOR_PGI\"\n",
    "series = requests.get(url).json()\n",
    "df = pd.DataFrame(series['Structure']['CodeLists']['CodeList']['Code'])\n",
    "all_inds = []\n",
    "all_cinds = []\n",
    "for x in range(0, len(df)):\n",
    "    all_cinds.append(str(df['@value'][x]))\n",
    "    all_inds.append(str(df['Description'][x]['#text']))"
   ]
  },
  {
   "cell_type": "code",
   "execution_count": 28,
   "metadata": {
    "collapsed": false
   },
   "outputs": [
    {
     "data": {
      "text/plain": [
       "81"
      ]
     },
     "execution_count": 28,
     "metadata": {},
     "output_type": "execute_result"
    }
   ],
   "source": [
    "len(all_codes)"
   ]
  },
  {
   "cell_type": "code",
   "execution_count": 13,
   "metadata": {
    "collapsed": false
   },
   "outputs": [
    {
     "name": "stdout",
     "output_type": "stream",
     "text": [
      "          @OBS_VALUE @TIME_PERIOD\n",
      "0   27.4206787752764         2008\n",
      "1  -5.68287793189596         2009\n",
      "2   18.2899717482477         2010\n",
      "3   20.4621971869322         2011\n",
      "4   11.7844129829232         2012\n",
      "5   6.45687073965926         2013\n",
      "6   7.30467691585311         2014\n",
      "7    14.856977145577         2015\n"
     ]
    },
    {
     "data": {
      "text/html": [
       "<div>\n",
       "<table border=\"1\" class=\"dataframe\">\n",
       "  <thead>\n",
       "    <tr style=\"text-align: right;\">\n",
       "      <th></th>\n",
       "      <th>@OBS_VALUE</th>\n",
       "      <th>@TIME_PERIOD</th>\n",
       "    </tr>\n",
       "  </thead>\n",
       "  <tbody>\n",
       "    <tr>\n",
       "      <th>3</th>\n",
       "      <td>20.4621971869322</td>\n",
       "      <td>2011</td>\n",
       "    </tr>\n",
       "    <tr>\n",
       "      <th>4</th>\n",
       "      <td>11.7844129829232</td>\n",
       "      <td>2012</td>\n",
       "    </tr>\n",
       "    <tr>\n",
       "      <th>5</th>\n",
       "      <td>6.45687073965926</td>\n",
       "      <td>2013</td>\n",
       "    </tr>\n",
       "    <tr>\n",
       "      <th>6</th>\n",
       "      <td>7.30467691585311</td>\n",
       "      <td>2014</td>\n",
       "    </tr>\n",
       "    <tr>\n",
       "      <th>7</th>\n",
       "      <td>14.856977145577</td>\n",
       "      <td>2015</td>\n",
       "    </tr>\n",
       "  </tbody>\n",
       "</table>\n",
       "</div>"
      ],
      "text/plain": [
       "         @OBS_VALUE @TIME_PERIOD\n",
       "3  20.4621971869322         2011\n",
       "4  11.7844129829232         2012\n",
       "5  6.45687073965926         2013\n",
       "6  7.30467691585311         2014\n",
       "7   14.856977145577         2015"
      ]
     },
     "execution_count": 13,
     "metadata": {},
     "output_type": "execute_result"
    }
   ],
   "source": [
    "our = 'http://dataservices.imf.org/REST/SDMX_JSON.svc/CompactData/PGI/A.RU.NGDP_PC_CP_A_PT?startPeriod=2008&endPeriod=2016'\n",
    "#NGDP_USD\n",
    "#NGDP_PC_CP_A_PT\n",
    "odata = requests.get(our)\n",
    "my_data = odata.json()\n",
    "unempl = pd.DataFrame(my_data['CompactData']['DataSet']['Series']['Obs'])\n",
    "print(unempl)\n",
    "unempl.tail()\n"
   ]
  },
  {
   "cell_type": "code",
   "execution_count": 14,
   "metadata": {
    "collapsed": false
   },
   "outputs": [
    {
     "name": "stdout",
     "output_type": "stream",
     "text": [
      "AF+DZ+AR+AM+AU+AT+BY+BE+BT+BA+BR+BN+BG+CA+CL+HK+CN+CO+CR+HR+CY+CZ+DK+EC+SV+EE+FI+FR+GE+DE+GR+HN+HU+IN+ID+IE+IL+IT+JP+KZ+KE+KR+XK+LV+LB+LT+LU+MK+MY+MT+MU+MX+MD+NL+NO+PK+PY+PE+PH+PL+PT+RO+RU+SA+SC+SG+SK+SI+ZA+ES+LK+SE+CH+TR+UG+UA+GB+US+UY+UZ+PS\n"
     ]
    }
   ],
   "source": [
    "all_cou = '+'.join(all_codes)\n",
    "print(all_cou)"
   ]
  },
  {
   "cell_type": "code",
   "execution_count": 17,
   "metadata": {
    "collapsed": false
   },
   "outputs": [],
   "source": [
    "\n",
    "\n",
    "#our='http://dataservices.imf.org/REST/SDMX_JSON.svc/CompactData/IFS/A.'+all_cou+'.LUR_PT?startPeriod=2008&endPeriod=2016'\n",
    "#our = 'http://dataservices.imf.org/REST/SDMX_JSON.svc/CompactData/IFS/A.US+AU+GB.LUR_PT?startPeriod=2008&endPeriod=2016'\n",
    "#print(our)\n",
    "def obtain_dataframe(query_ind):\n",
    "    our ='http://dataservices.imf.org/REST/SDMX_JSON.svc/CompactData/PGI/A.AF+DZ+AR+AM+AU+AT+BY+BE+BT+BA+BR+BN+BG+CA+CL+HK+CN+CO+CR+HR+CY+CZ+DK+EC+SV+EE+FI+FR+GE+DE+GR+HN+HU+IN+ID+IE+IL+IT+JP+KZ+KE+KR+XK+LV+LB+LT+LU+MK+MY+MT+MU.'+query_ind+'?startPeriod=2008&endPeriod=2016'\n",
    "    our2 ='http://dataservices.imf.org/REST/SDMX_JSON.svc/CompactData/PGI/A.MX+MD+NL+NO+PK+PY+PE+PH+PL+PT+RO+RU+SA+SC+SG+SK+SI+ZA+ES+LK+SE+CH+TR+UG+UA+GB+US+UY+UZ+PS.'+query_ind+'?startPeriod=2008&endPeriod=2016'\n",
    "    #our3 = 'http://dataservices.imf.org/REST/SDMX_JSON.svc/CompactData/IFS/A.NA+NR+NP+NL+AN+NZ+NI+NE+NG+NO+OM+PK+PW+PA+PG+PY+PE+PH+PL+PT+QA+RE+RO+RU+RW+WS+SM+ST+SA+SN+RS+SC+SL+SG+SX+SK+SI+SB+SO+ZA+SS+ES+LK+KN+LC+VC+SD+SR+SZ+SE+CH+SY+TW+TJ+TZ+TH+TP+TL+TG+TO+TT+TN+TR+TM+TV+UG+UA+AE+GB+US+UY+UZ+VU+VE+VN+PS+YE+ZM+ZW.'+query_ind+'?startPeriod=2008&endPeriod=2016'\n",
    "    odata = requests.get(our)\n",
    "    my_data = odata.json()\n",
    "    listing1 = my_data['CompactData']['DataSet']['Series']\n",
    "    odata = requests.get(our2)\n",
    "    my_data = odata.json()\n",
    "    listing2 = my_data['CompactData']['DataSet']['Series']\n",
    "    #odata = requests.get(our3)\n",
    "    #my_data = odata.json()\n",
    "    #listing3 = my_data['CompactData']['DataSet']['Series']\n",
    "    listing = listing1 + listing2 # + listing3\n",
    "    print(len(listing))\n",
    "    print(listing[0])\n",
    "    countries= []\n",
    "    indicators=[]\n",
    "    vals = []\n",
    "    years = []\n",
    "    for i in range(0, len(listing)):\n",
    "        country = listing[i]['@REF_AREA']\n",
    "        indicator =listing[i]['@INDICATOR']\n",
    "        item = listing[i]\n",
    "        if 'Obs' in item:\n",
    "            obs = item['Obs']\n",
    "            if isinstance(obs, dict):\n",
    "                val = obs['@OBS_VALUE']\n",
    "                year = obs['@TIME_PERIOD']\n",
    "                countries.append(country)\n",
    "                indicators.append(indicator)\n",
    "                years.append(year)\n",
    "                vals.append(val)\n",
    "            else:\n",
    "                for x in range(0,len(obs)):\n",
    "                    if '@OBS_VALUE' in obs[x]:\n",
    "                        val = obs[x]['@OBS_VALUE']\n",
    "                    else:\n",
    "                        val = 'none'\n",
    "                    if '@TIME_PERIOD' in obs[x]:\n",
    "                        year = obs[x]['@TIME_PERIOD']\n",
    "                    else:\n",
    "                        year = 'none'\n",
    "                        countries.append(country)\n",
    "                        indicators.append(indicator)\n",
    "                        years.append(year)\n",
    "                        vals.append(val)\n",
    "            df = pd.DataFrame({'Country': countries, 'Indicator': indicators, 'Year': years, 'Value': vals})\n",
    "        else:\n",
    "            countries.append(country)\n",
    "            indicators.append(indicator)\n",
    "            years.append('missing')\n",
    "            vals.append('missing')\n",
    "    #df = pd.DataFrame({'Country': countries, 'Indicator': indicators, 'Year': years, 'Value': vals})\n",
    "    print(df.tail())\n",
    "    return df\n",
    "\n",
    "#del countries, indicators, years, vals"
   ]
  },
  {
   "cell_type": "code",
   "execution_count": 18,
   "metadata": {
    "collapsed": false
   },
   "outputs": [
    {
     "name": "stdout",
     "output_type": "stream",
     "text": [
      "16\n",
      "{'@REF_AREA': 'KR', '@TIME_FORMAT': 'P1Y', '@UNIT_MULT': '0', 'Obs': [{'@OBS_VALUE': '5.86953675304417', '@TIME_PERIOD': '2008'}, {'@OBS_VALUE': '4.27486948300767', '@TIME_PERIOD': '2009'}, {'@OBS_VALUE': '9.86363034095975', '@TIME_PERIOD': '2010'}, {'@OBS_VALUE': '5.32463242151318', '@TIME_PERIOD': '2011'}, {'@OBS_VALUE': '3.35982129256739', '@TIME_PERIOD': '2012'}, {'@OBS_VALUE': '3.77425294021946', '@TIME_PERIOD': '2013'}, {'@OBS_VALUE': '3.96194915874366', '@TIME_PERIOD': '2014'}, {'@OBS_VALUE': '4.8794300546411', '@TIME_PERIOD': '2015'}], '@INDICATOR': 'NGDP_PC_PP_PT', '@FREQ': 'A'}\n",
      "  Country      Indicator    Value     Year\n",
      "0      FI  NGDP_PC_PP_PT  missing  missing\n",
      "1      DK  NGDP_PC_PP_PT  missing  missing\n",
      "2      PL  NGDP_PC_PP_PT  missing  missing\n",
      "3      NO  NGDP_PC_PP_PT  missing  missing\n",
      "16\n",
      "{'@REF_AREA': 'BR', '@TIME_FORMAT': 'P1Y', '@UNIT_MULT': '0', 'Obs': [{'@OBS_VALUE': '13.9350269210087', '@TIME_PERIOD': '2008'}, {'@OBS_VALUE': '6.83334838487615', '@TIME_PERIOD': '2009'}, {'@OBS_VALUE': '16.3820527839016', '@TIME_PERIOD': '2010'}, {'@OBS_VALUE': '9.89177906231497', '@TIME_PERIOD': '2011'}, {'@OBS_VALUE': '6.26413072406407', '@TIME_PERIOD': '2012'}, {'@OBS_VALUE': '10.0459792978728', '@TIME_PERIOD': '2013'}, {'@OBS_VALUE': '13.9621634146632', '@TIME_PERIOD': '2014'}, {'@OBS_VALUE': '6.93818825865157', '@TIME_PERIOD': '2015'}, {'@OBS_VALUE': '5.2872042651672', '@TIME_PERIOD': '2016'}], '@INDICATOR': 'NGDP_PC_CP_A_PT', '@FREQ': 'A'}\n",
      "  Country        Indicator    Value     Year\n",
      "0      DK  NGDP_PC_CP_A_PT  missing  missing\n",
      "1      FI  NGDP_PC_CP_A_PT  missing  missing\n",
      "16\n",
      "{'@REF_AREA': 'IN', '@TIME_FORMAT': 'P1Y', '@UNIT_MULT': '6', 'Obs': [{'@OBS_VALUE': '1294113.15356676', '@TIME_PERIOD': '2008'}, {'@OBS_VALUE': '1338248.38619489', '@TIME_PERIOD': '2009'}, {'@OBS_VALUE': '1702345.92649016', '@TIME_PERIOD': '2010'}, {'@OBS_VALUE': '1871855.97044856', '@TIME_PERIOD': '2011'}, {'@OBS_VALUE': '1861368.0723241', '@TIME_PERIOD': '2012'}, {'@OBS_VALUE': '1917585.01018265', '@TIME_PERIOD': '2013'}, {'@OBS_VALUE': '2037333.75725765', '@TIME_PERIOD': '2014'}, {'@OBS_VALUE': '2131709.50848231', '@TIME_PERIOD': '2015'}, {'@OBS_VALUE': '2269656.52257859', '@TIME_PERIOD': '2016'}], '@INDICATOR': 'NGDP_USD', '@FREQ': 'A'}\n",
      "  Country Indicator    Value     Year\n",
      "0      FI  NGDP_USD  missing  missing\n",
      "1      DK  NGDP_USD  missing  missing\n",
      "2      NO  NGDP_USD  missing  missing\n",
      "3      PL  NGDP_USD  missing  missing\n"
     ]
    }
   ],
   "source": [
    "query_inds = ['NGDP_PC_PP_PT','NGDP_PC_CP_A_PT','NGDP_USD']\n",
    "path1 = '/Users/dariaulybina/Desktop/georgetown/global-economics/additional_data/data_csv/'\n",
    "for query_ind in query_inds:\n",
    "    df = obtain_dataframe(query_ind)\n",
    "    df.to_csv(os.path.join(path1,'PGI_'+query_ind+'.csv'))\n",
    "              "
   ]
  },
  {
   "cell_type": "code",
   "execution_count": 11,
   "metadata": {
    "collapsed": false
   },
   "outputs": [],
   "source": [
    "df.to_csv('/Users/dariaulybina/Desktop/georgetown/global-economics/additional_data/data/.csv')"
   ]
  },
  {
   "cell_type": "code",
   "execution_count": 45,
   "metadata": {
    "collapsed": false
   },
   "outputs": [],
   "source": [
    "def find_name(code, list1, list2):\n",
    "    for i,j in zip(all_names,all_codes):\n",
    "        if ccode in j:\n",
    "            cname = i\n",
    "            return cname\n",
    "        else:\n",
    "            continue"
   ]
  },
  {
   "cell_type": "code",
   "execution_count": 50,
   "metadata": {
    "collapsed": false
   },
   "outputs": [
    {
     "name": "stdout",
     "output_type": "stream",
     "text": [
      "729\n",
      "729\n",
      "729\n"
     ]
    }
   ],
   "source": [
    "cyear = ['2008','2009','2010','2011','2012','2013','2014','2015','2016']\n",
    "cnames = 9*all_names\n",
    "ccodes = 9*all_codes\n",
    "all_years = len(all_names)*cyear\n",
    "print(len(all_years))\n",
    "print(len(cnames))\n",
    "print(len(ccodes))"
   ]
  },
  {
   "cell_type": "code",
   "execution_count": 48,
   "metadata": {
    "collapsed": false
   },
   "outputs": [
    {
     "data": {
      "text/plain": [
       "DatetimeIndex(['2008-12-31', '2009-12-31', '2010-12-31', '2011-12-31',\n",
       "               '2012-12-31', '2013-12-31', '2014-12-31', '2015-12-31'],\n",
       "              dtype='datetime64[ns]', freq='A-DEC')"
      ]
     },
     "execution_count": 48,
     "metadata": {},
     "output_type": "execute_result"
    }
   ],
   "source": [
    "#dates = pd.date_range('2008', '2016', freq='A')\n",
    "#table = OrderedDict(()\n",
    "   # ('CName', cnames),\n",
    "   ## ('CCode',),\n",
    "   # ('',  ),\n",
    "   # ('',  )\n",
    "#))\n",
    "#d = DataFrame(table)"
   ]
  },
  {
   "cell_type": "code",
   "execution_count": 58,
   "metadata": {
    "collapsed": false
   },
   "outputs": [
    {
     "name": "stdout",
     "output_type": "stream",
     "text": [
      "            AF  DZ  AR  AM  AU  AT  BY  BE  BT  BA ...  SE  CH  TR  UG  UA  \\\n",
      "2008-12-31 NaN NaN NaN NaN NaN NaN NaN NaN NaN NaN ... NaN NaN NaN NaN NaN   \n",
      "2009-12-31 NaN NaN NaN NaN NaN NaN NaN NaN NaN NaN ... NaN NaN NaN NaN NaN   \n",
      "2010-12-31 NaN NaN NaN NaN NaN NaN NaN NaN NaN NaN ... NaN NaN NaN NaN NaN   \n",
      "2011-12-31 NaN NaN NaN NaN NaN NaN NaN NaN NaN NaN ... NaN NaN NaN NaN NaN   \n",
      "2012-12-31 NaN NaN NaN NaN NaN NaN NaN NaN NaN NaN ... NaN NaN NaN NaN NaN   \n",
      "\n",
      "            GB  US  UY  UZ  PS  \n",
      "2008-12-31 NaN NaN NaN NaN NaN  \n",
      "2009-12-31 NaN NaN NaN NaN NaN  \n",
      "2010-12-31 NaN NaN NaN NaN NaN  \n",
      "2011-12-31 NaN NaN NaN NaN NaN  \n",
      "2012-12-31 NaN NaN NaN NaN NaN  \n",
      "\n",
      "[5 rows x 81 columns]\n"
     ]
    },
    {
     "ename": "DataError",
     "evalue": "No numeric types to aggregate",
     "output_type": "error",
     "traceback": [
      "\u001b[0;31m---------------------------------------------------------------------------\u001b[0m",
      "\u001b[0;31mDataError\u001b[0m                                 Traceback (most recent call last)",
      "\u001b[0;32m<ipython-input-58-584b5152cd18>\u001b[0m in \u001b[0;36m<module>\u001b[0;34m()\u001b[0m\n\u001b[1;32m      7\u001b[0m \u001b[0mdf\u001b[0m \u001b[0;34m=\u001b[0m \u001b[0mpd\u001b[0m\u001b[0;34m.\u001b[0m\u001b[0mDataFrame\u001b[0m\u001b[0;34m(\u001b[0m\u001b[0mnp\u001b[0m\u001b[0;34m.\u001b[0m\u001b[0mnan\u001b[0m\u001b[0;34m,\u001b[0m \u001b[0mindex\u001b[0m \u001b[0;34m=\u001b[0m \u001b[0mindex\u001b[0m\u001b[0;34m,\u001b[0m\u001b[0mcolumns\u001b[0m\u001b[0;34m=\u001b[0m\u001b[0mall_codes\u001b[0m\u001b[0;34m)\u001b[0m\u001b[0;34m\u001b[0m\u001b[0m\n\u001b[1;32m      8\u001b[0m \u001b[0mprint\u001b[0m\u001b[0;34m(\u001b[0m\u001b[0mdf\u001b[0m\u001b[0;34m.\u001b[0m\u001b[0mhead\u001b[0m\u001b[0;34m(\u001b[0m\u001b[0;34m)\u001b[0m\u001b[0;34m)\u001b[0m\u001b[0;34m\u001b[0m\u001b[0m\n\u001b[0;32m----> 9\u001b[0;31m \u001b[0mdf2\u001b[0m \u001b[0;34m=\u001b[0m \u001b[0mpd\u001b[0m\u001b[0;34m.\u001b[0m\u001b[0mpivot_table\u001b[0m\u001b[0;34m(\u001b[0m\u001b[0mdf\u001b[0m\u001b[0;34m,\u001b[0m\u001b[0mindex\u001b[0m\u001b[0;34m=\u001b[0m\u001b[0mall_codes\u001b[0m\u001b[0;34m)\u001b[0m\u001b[0;34m\u001b[0m\u001b[0m\n\u001b[0m\u001b[1;32m     10\u001b[0m \u001b[0mprint\u001b[0m\u001b[0;34m(\u001b[0m\u001b[0mdf2\u001b[0m\u001b[0;34m.\u001b[0m\u001b[0mhead\u001b[0m\u001b[0;34m(\u001b[0m\u001b[0;34m)\u001b[0m\u001b[0;34m)\u001b[0m\u001b[0;34m\u001b[0m\u001b[0m\n",
      "\u001b[0;32m/Users/dariaulybina/anaconda/lib/python3.5/site-packages/pandas/tools/pivot.py\u001b[0m in \u001b[0;36mpivot_table\u001b[0;34m(data, values, index, columns, aggfunc, fill_value, margins, dropna, margins_name)\u001b[0m\n\u001b[1;32m    119\u001b[0m \u001b[0;34m\u001b[0m\u001b[0m\n\u001b[1;32m    120\u001b[0m     \u001b[0mgrouped\u001b[0m \u001b[0;34m=\u001b[0m \u001b[0mdata\u001b[0m\u001b[0;34m.\u001b[0m\u001b[0mgroupby\u001b[0m\u001b[0;34m(\u001b[0m\u001b[0mkeys\u001b[0m\u001b[0;34m)\u001b[0m\u001b[0;34m\u001b[0m\u001b[0m\n\u001b[0;32m--> 121\u001b[0;31m     \u001b[0magged\u001b[0m \u001b[0;34m=\u001b[0m \u001b[0mgrouped\u001b[0m\u001b[0;34m.\u001b[0m\u001b[0magg\u001b[0m\u001b[0;34m(\u001b[0m\u001b[0maggfunc\u001b[0m\u001b[0;34m)\u001b[0m\u001b[0;34m\u001b[0m\u001b[0m\n\u001b[0m\u001b[1;32m    122\u001b[0m \u001b[0;34m\u001b[0m\u001b[0m\n\u001b[1;32m    123\u001b[0m     \u001b[0mtable\u001b[0m \u001b[0;34m=\u001b[0m \u001b[0magged\u001b[0m\u001b[0;34m\u001b[0m\u001b[0m\n",
      "\u001b[0;32m/Users/dariaulybina/anaconda/lib/python3.5/site-packages/pandas/core/groupby.py\u001b[0m in \u001b[0;36maggregate\u001b[0;34m(self, arg, *args, **kwargs)\u001b[0m\n\u001b[1;32m   3585\u001b[0m     \u001b[0;34m@\u001b[0m\u001b[0mAppender\u001b[0m\u001b[0;34m(\u001b[0m\u001b[0mSelectionMixin\u001b[0m\u001b[0;34m.\u001b[0m\u001b[0m_agg_doc\u001b[0m\u001b[0;34m)\u001b[0m\u001b[0;34m\u001b[0m\u001b[0m\n\u001b[1;32m   3586\u001b[0m     \u001b[0;32mdef\u001b[0m \u001b[0maggregate\u001b[0m\u001b[0;34m(\u001b[0m\u001b[0mself\u001b[0m\u001b[0;34m,\u001b[0m \u001b[0marg\u001b[0m\u001b[0;34m,\u001b[0m \u001b[0;34m*\u001b[0m\u001b[0margs\u001b[0m\u001b[0;34m,\u001b[0m \u001b[0;34m**\u001b[0m\u001b[0mkwargs\u001b[0m\u001b[0;34m)\u001b[0m\u001b[0;34m:\u001b[0m\u001b[0;34m\u001b[0m\u001b[0m\n\u001b[0;32m-> 3587\u001b[0;31m         \u001b[0;32mreturn\u001b[0m \u001b[0msuper\u001b[0m\u001b[0;34m(\u001b[0m\u001b[0mDataFrameGroupBy\u001b[0m\u001b[0;34m,\u001b[0m \u001b[0mself\u001b[0m\u001b[0;34m)\u001b[0m\u001b[0;34m.\u001b[0m\u001b[0maggregate\u001b[0m\u001b[0;34m(\u001b[0m\u001b[0marg\u001b[0m\u001b[0;34m,\u001b[0m \u001b[0;34m*\u001b[0m\u001b[0margs\u001b[0m\u001b[0;34m,\u001b[0m \u001b[0;34m**\u001b[0m\u001b[0mkwargs\u001b[0m\u001b[0;34m)\u001b[0m\u001b[0;34m\u001b[0m\u001b[0m\n\u001b[0m\u001b[1;32m   3588\u001b[0m \u001b[0;34m\u001b[0m\u001b[0m\n\u001b[1;32m   3589\u001b[0m     \u001b[0magg\u001b[0m \u001b[0;34m=\u001b[0m \u001b[0maggregate\u001b[0m\u001b[0;34m\u001b[0m\u001b[0m\n",
      "\u001b[0;32m/Users/dariaulybina/anaconda/lib/python3.5/site-packages/pandas/core/groupby.py\u001b[0m in \u001b[0;36maggregate\u001b[0;34m(self, arg, *args, **kwargs)\u001b[0m\n\u001b[1;32m   3102\u001b[0m \u001b[0;34m\u001b[0m\u001b[0m\n\u001b[1;32m   3103\u001b[0m         \u001b[0m_level\u001b[0m \u001b[0;34m=\u001b[0m \u001b[0mkwargs\u001b[0m\u001b[0;34m.\u001b[0m\u001b[0mpop\u001b[0m\u001b[0;34m(\u001b[0m\u001b[0;34m'_level'\u001b[0m\u001b[0;34m,\u001b[0m \u001b[0;32mNone\u001b[0m\u001b[0;34m)\u001b[0m\u001b[0;34m\u001b[0m\u001b[0m\n\u001b[0;32m-> 3104\u001b[0;31m         \u001b[0mresult\u001b[0m\u001b[0;34m,\u001b[0m \u001b[0mhow\u001b[0m \u001b[0;34m=\u001b[0m \u001b[0mself\u001b[0m\u001b[0;34m.\u001b[0m\u001b[0m_aggregate\u001b[0m\u001b[0;34m(\u001b[0m\u001b[0marg\u001b[0m\u001b[0;34m,\u001b[0m \u001b[0m_level\u001b[0m\u001b[0;34m=\u001b[0m\u001b[0m_level\u001b[0m\u001b[0;34m,\u001b[0m \u001b[0;34m*\u001b[0m\u001b[0margs\u001b[0m\u001b[0;34m,\u001b[0m \u001b[0;34m**\u001b[0m\u001b[0mkwargs\u001b[0m\u001b[0;34m)\u001b[0m\u001b[0;34m\u001b[0m\u001b[0m\n\u001b[0m\u001b[1;32m   3105\u001b[0m         \u001b[0;32mif\u001b[0m \u001b[0mhow\u001b[0m \u001b[0;32mis\u001b[0m \u001b[0;32mNone\u001b[0m\u001b[0;34m:\u001b[0m\u001b[0;34m\u001b[0m\u001b[0m\n\u001b[1;32m   3106\u001b[0m             \u001b[0;32mreturn\u001b[0m \u001b[0mresult\u001b[0m\u001b[0;34m\u001b[0m\u001b[0m\n",
      "\u001b[0;32m/Users/dariaulybina/anaconda/lib/python3.5/site-packages/pandas/core/base.py\u001b[0m in \u001b[0;36m_aggregate\u001b[0;34m(self, arg, *args, **kwargs)\u001b[0m\n\u001b[1;32m    422\u001b[0m         \u001b[0m_level\u001b[0m \u001b[0;34m=\u001b[0m \u001b[0mkwargs\u001b[0m\u001b[0;34m.\u001b[0m\u001b[0mpop\u001b[0m\u001b[0;34m(\u001b[0m\u001b[0;34m'_level'\u001b[0m\u001b[0;34m,\u001b[0m \u001b[0;32mNone\u001b[0m\u001b[0;34m)\u001b[0m\u001b[0;34m\u001b[0m\u001b[0m\n\u001b[1;32m    423\u001b[0m         \u001b[0;32mif\u001b[0m \u001b[0misinstance\u001b[0m\u001b[0;34m(\u001b[0m\u001b[0marg\u001b[0m\u001b[0;34m,\u001b[0m \u001b[0mcompat\u001b[0m\u001b[0;34m.\u001b[0m\u001b[0mstring_types\u001b[0m\u001b[0;34m)\u001b[0m\u001b[0;34m:\u001b[0m\u001b[0;34m\u001b[0m\u001b[0m\n\u001b[0;32m--> 424\u001b[0;31m             \u001b[0;32mreturn\u001b[0m \u001b[0mgetattr\u001b[0m\u001b[0;34m(\u001b[0m\u001b[0mself\u001b[0m\u001b[0;34m,\u001b[0m \u001b[0marg\u001b[0m\u001b[0;34m)\u001b[0m\u001b[0;34m(\u001b[0m\u001b[0;34m*\u001b[0m\u001b[0margs\u001b[0m\u001b[0;34m,\u001b[0m \u001b[0;34m**\u001b[0m\u001b[0mkwargs\u001b[0m\u001b[0;34m)\u001b[0m\u001b[0;34m,\u001b[0m \u001b[0;32mNone\u001b[0m\u001b[0;34m\u001b[0m\u001b[0m\n\u001b[0m\u001b[1;32m    425\u001b[0m \u001b[0;34m\u001b[0m\u001b[0m\n\u001b[1;32m    426\u001b[0m         \u001b[0;32mif\u001b[0m \u001b[0misinstance\u001b[0m\u001b[0;34m(\u001b[0m\u001b[0marg\u001b[0m\u001b[0;34m,\u001b[0m \u001b[0mdict\u001b[0m\u001b[0;34m)\u001b[0m\u001b[0;34m:\u001b[0m\u001b[0;34m\u001b[0m\u001b[0m\n",
      "\u001b[0;32m/Users/dariaulybina/anaconda/lib/python3.5/site-packages/pandas/core/groupby.py\u001b[0m in \u001b[0;36mmean\u001b[0;34m(self)\u001b[0m\n\u001b[1;32m    933\u001b[0m         \"\"\"\n\u001b[1;32m    934\u001b[0m         \u001b[0;32mtry\u001b[0m\u001b[0;34m:\u001b[0m\u001b[0;34m\u001b[0m\u001b[0m\n\u001b[0;32m--> 935\u001b[0;31m             \u001b[0;32mreturn\u001b[0m \u001b[0mself\u001b[0m\u001b[0;34m.\u001b[0m\u001b[0m_cython_agg_general\u001b[0m\u001b[0;34m(\u001b[0m\u001b[0;34m'mean'\u001b[0m\u001b[0;34m)\u001b[0m\u001b[0;34m\u001b[0m\u001b[0m\n\u001b[0m\u001b[1;32m    936\u001b[0m         \u001b[0;32mexcept\u001b[0m \u001b[0mGroupByError\u001b[0m\u001b[0;34m:\u001b[0m\u001b[0;34m\u001b[0m\u001b[0m\n\u001b[1;32m    937\u001b[0m             \u001b[0;32mraise\u001b[0m\u001b[0;34m\u001b[0m\u001b[0m\n",
      "\u001b[0;32m/Users/dariaulybina/anaconda/lib/python3.5/site-packages/pandas/core/groupby.py\u001b[0m in \u001b[0;36m_cython_agg_general\u001b[0;34m(self, how, numeric_only)\u001b[0m\n\u001b[1;32m   3036\u001b[0m     \u001b[0;32mdef\u001b[0m \u001b[0m_cython_agg_general\u001b[0m\u001b[0;34m(\u001b[0m\u001b[0mself\u001b[0m\u001b[0;34m,\u001b[0m \u001b[0mhow\u001b[0m\u001b[0;34m,\u001b[0m \u001b[0mnumeric_only\u001b[0m\u001b[0;34m=\u001b[0m\u001b[0;32mTrue\u001b[0m\u001b[0;34m)\u001b[0m\u001b[0;34m:\u001b[0m\u001b[0;34m\u001b[0m\u001b[0m\n\u001b[1;32m   3037\u001b[0m         new_items, new_blocks = self._cython_agg_blocks(\n\u001b[0;32m-> 3038\u001b[0;31m             how, numeric_only=numeric_only)\n\u001b[0m\u001b[1;32m   3039\u001b[0m         \u001b[0;32mreturn\u001b[0m \u001b[0mself\u001b[0m\u001b[0;34m.\u001b[0m\u001b[0m_wrap_agged_blocks\u001b[0m\u001b[0;34m(\u001b[0m\u001b[0mnew_items\u001b[0m\u001b[0;34m,\u001b[0m \u001b[0mnew_blocks\u001b[0m\u001b[0;34m)\u001b[0m\u001b[0;34m\u001b[0m\u001b[0m\n\u001b[1;32m   3040\u001b[0m \u001b[0;34m\u001b[0m\u001b[0m\n",
      "\u001b[0;32m/Users/dariaulybina/anaconda/lib/python3.5/site-packages/pandas/core/groupby.py\u001b[0m in \u001b[0;36m_cython_agg_blocks\u001b[0;34m(self, how, numeric_only)\u001b[0m\n\u001b[1;32m   3082\u001b[0m \u001b[0;34m\u001b[0m\u001b[0m\n\u001b[1;32m   3083\u001b[0m         \u001b[0;32mif\u001b[0m \u001b[0mlen\u001b[0m\u001b[0;34m(\u001b[0m\u001b[0mnew_blocks\u001b[0m\u001b[0;34m)\u001b[0m \u001b[0;34m==\u001b[0m \u001b[0;36m0\u001b[0m\u001b[0;34m:\u001b[0m\u001b[0;34m\u001b[0m\u001b[0m\n\u001b[0;32m-> 3084\u001b[0;31m             \u001b[0;32mraise\u001b[0m \u001b[0mDataError\u001b[0m\u001b[0;34m(\u001b[0m\u001b[0;34m'No numeric types to aggregate'\u001b[0m\u001b[0;34m)\u001b[0m\u001b[0;34m\u001b[0m\u001b[0m\n\u001b[0m\u001b[1;32m   3085\u001b[0m \u001b[0;34m\u001b[0m\u001b[0m\n\u001b[1;32m   3086\u001b[0m         \u001b[0;32mreturn\u001b[0m \u001b[0mdata\u001b[0m\u001b[0;34m.\u001b[0m\u001b[0mitems\u001b[0m\u001b[0;34m,\u001b[0m \u001b[0mnew_blocks\u001b[0m\u001b[0;34m\u001b[0m\u001b[0m\n",
      "\u001b[0;31mDataError\u001b[0m: No numeric types to aggregate"
     ]
    }
   ],
   "source": [
    "#Create empty dataframe with desired values\n",
    "import numpy as np\n",
    "#dummyarray = np.empty((4,1))\n",
    "#dummyarray[:] = np.nan\n",
    "\n",
    "index = pd.date_range('2008', '2016', freq='A')\n",
    "df = pd.DataFrame(np.nan, index = index,columns=all_codes)\n",
    "print(df.head())\n",
    "df2 = pd.pivot_table(df,index=all_codes)\n",
    "print(df2.head())"
   ]
  },
  {
   "cell_type": "code",
   "execution_count": 20,
   "metadata": {
    "collapsed": false
   },
   "outputs": [
    {
     "name": "stdout",
     "output_type": "stream",
     "text": [
      "   @FREQ       @INDICATOR @REF_AREA @TIME_FORMAT @UNIT_MULT  \\\n",
      "0      A  NGDP_PC_CP_A_PT        SE          P1Y          0   \n",
      "1      A  NGDP_PC_CP_A_PT        BR          P1Y          0   \n",
      "2      A  NGDP_PC_CP_A_PT        SG          P1Y          0   \n",
      "3      A  NGDP_PC_CP_A_PT        CN          P1Y          0   \n",
      "4      A  NGDP_PC_CP_A_PT        SA          P1Y          0   \n",
      "5      A  NGDP_PC_CP_A_PT        HK          P1Y          0   \n",
      "6      A  NGDP_PC_CP_A_PT        IN          P1Y          0   \n",
      "7      A  NGDP_PC_CP_A_PT        TR          P1Y          0   \n",
      "8      A  NGDP_PC_CP_A_PT        RU          P1Y          0   \n",
      "9      A  NGDP_PC_CP_A_PT        KR          P1Y          0   \n",
      "10     A  NGDP_PC_CP_A_PT        ID          P1Y          0   \n",
      "11     A  NGDP_PC_CP_A_PT        AR          P1Y          0   \n",
      "12     A  NGDP_PC_CP_A_PT        DK          P1Y          0   \n",
      "13     A  NGDP_PC_CP_A_PT        NO          P1Y          0   \n",
      "14     A  NGDP_PC_CP_A_PT        PL          P1Y          0   \n",
      "15     A  NGDP_PC_CP_A_PT        FI          P1Y          0   \n",
      "\n",
      "                                                  Obs  \n",
      "0   [{'@OBS_VALUE': '2.74627068476', '@TIME_PERIOD...  \n",
      "1   [{'@OBS_VALUE': '13.9350269210087', '@TIME_PER...  \n",
      "2   [{'@OBS_VALUE': '0.269345820715812', '@TIME_PE...  \n",
      "3   [{'@OBS_VALUE': '18.2373461647627', '@TIME_PER...  \n",
      "4   [{'@OBS_VALUE': '25.0451782013014', '@TIME_PER...  \n",
      "5   [{'@OBS_VALUE': '3.4366678055388', '@TIME_PERI...  \n",
      "6   [{'@OBS_VALUE': '12.8927490781197', '@TIME_PER...  \n",
      "7   [{'@OBS_VALUE': '12.9843337690614', '@TIME_PER...  \n",
      "8   [{'@OBS_VALUE': '27.4206787752764', '@TIME_PER...  \n",
      "9   [{'@OBS_VALUE': '5.86953675304417', '@TIME_PER...  \n",
      "10  [{'@OBS_VALUE': '25.2549270938549', '@TIME_PER...  \n",
      "11  [{'@OBS_VALUE': '28.1685062630473', '@TIME_PER...  \n",
      "12                                                NaN  \n",
      "13                                                NaN  \n",
      "14                                                NaN  \n",
      "15                                                NaN  \n"
     ]
    },
    {
     "data": {
      "text/html": [
       "<div>\n",
       "<table border=\"1\" class=\"dataframe\">\n",
       "  <thead>\n",
       "    <tr style=\"text-align: right;\">\n",
       "      <th></th>\n",
       "      <th>@FREQ</th>\n",
       "      <th>@INDICATOR</th>\n",
       "      <th>@REF_AREA</th>\n",
       "      <th>@TIME_FORMAT</th>\n",
       "      <th>@UNIT_MULT</th>\n",
       "      <th>Obs</th>\n",
       "    </tr>\n",
       "  </thead>\n",
       "  <tbody>\n",
       "    <tr>\n",
       "      <th>11</th>\n",
       "      <td>A</td>\n",
       "      <td>NGDP_PC_CP_A_PT</td>\n",
       "      <td>AR</td>\n",
       "      <td>P1Y</td>\n",
       "      <td>0</td>\n",
       "      <td>[{'@OBS_VALUE': '28.1685062630473', '@TIME_PER...</td>\n",
       "    </tr>\n",
       "    <tr>\n",
       "      <th>12</th>\n",
       "      <td>A</td>\n",
       "      <td>NGDP_PC_CP_A_PT</td>\n",
       "      <td>DK</td>\n",
       "      <td>P1Y</td>\n",
       "      <td>0</td>\n",
       "      <td>NaN</td>\n",
       "    </tr>\n",
       "    <tr>\n",
       "      <th>13</th>\n",
       "      <td>A</td>\n",
       "      <td>NGDP_PC_CP_A_PT</td>\n",
       "      <td>NO</td>\n",
       "      <td>P1Y</td>\n",
       "      <td>0</td>\n",
       "      <td>NaN</td>\n",
       "    </tr>\n",
       "    <tr>\n",
       "      <th>14</th>\n",
       "      <td>A</td>\n",
       "      <td>NGDP_PC_CP_A_PT</td>\n",
       "      <td>PL</td>\n",
       "      <td>P1Y</td>\n",
       "      <td>0</td>\n",
       "      <td>NaN</td>\n",
       "    </tr>\n",
       "    <tr>\n",
       "      <th>15</th>\n",
       "      <td>A</td>\n",
       "      <td>NGDP_PC_CP_A_PT</td>\n",
       "      <td>FI</td>\n",
       "      <td>P1Y</td>\n",
       "      <td>0</td>\n",
       "      <td>NaN</td>\n",
       "    </tr>\n",
       "  </tbody>\n",
       "</table>\n",
       "</div>"
      ],
      "text/plain": [
       "   @FREQ       @INDICATOR @REF_AREA @TIME_FORMAT @UNIT_MULT  \\\n",
       "11     A  NGDP_PC_CP_A_PT        AR          P1Y          0   \n",
       "12     A  NGDP_PC_CP_A_PT        DK          P1Y          0   \n",
       "13     A  NGDP_PC_CP_A_PT        NO          P1Y          0   \n",
       "14     A  NGDP_PC_CP_A_PT        PL          P1Y          0   \n",
       "15     A  NGDP_PC_CP_A_PT        FI          P1Y          0   \n",
       "\n",
       "                                                  Obs  \n",
       "11  [{'@OBS_VALUE': '28.1685062630473', '@TIME_PER...  \n",
       "12                                                NaN  \n",
       "13                                                NaN  \n",
       "14                                                NaN  \n",
       "15                                                NaN  "
      ]
     },
     "execution_count": 20,
     "metadata": {},
     "output_type": "execute_result"
    }
   ],
   "source": [
    "query = 'http://dataservices.imf.org/REST/SDMX_JSON.svc/CompactData/PGI/A.AF+DZ+AR+AM+AU+AT+BY+BE+BT+BA+BR+BN+BG+CA+CL+HK+CN+CO+CR+HR+CY+CZ+DK+EC+SV+EE+FI+FR+GE+DE+GR+HN+HU+IN+ID+IE+IL+IT+JP+KZ+KE+KR+XK+LV+LB+LT+LU+MK+MY+MT+MU+MX+MD+NL+NO+PK+PY+PE+PH+PL+PT+RO+RU+SA+SC+SG+SK+SI+ZA+ES+LK+SE+CH+TR+UG+UA+GB+US+UY+UZ+PS.NGDP_PC_CP_A_PT?startPeriod=2008&endPeriod=2016'\n",
    "odata = requests.get(query)\n",
    "my_data = odata.json()\n",
    "data = pd.DataFrame(my_data['CompactData']['DataSet']['Series'])\n",
    "ccode = data['@REF_AREA']\n",
    "cname = find_name(ccode, all_names,all_codes)\n",
    "icode = data['@INDICATOR']\n",
    "iname = find_name(icode, all_inds, all_cinds)\n",
    "if isinstance(data['Obs'],list):\n",
    "    for d in data['Obs']:\n",
    "        vals = d['@OBS_VALUE']\n",
    "        year = d['@TIME_PERIOD']\n",
    "elif isinstance(data['Obs'],str):\n",
    "    vals = data['Obs']\n",
    "    year = \n",
    "df = pd.DataFrame({'CNAME': ccode,'':, 'Indicator': indicators, 'Year': years, 'Value': vals})\n",
    "print(data)"
   ]
  },
  {
   "cell_type": "code",
   "execution_count": 16,
   "metadata": {
    "collapsed": false
   },
   "outputs": [
    {
     "name": "stdout",
     "output_type": "stream",
     "text": [
      "            unempl  date\n",
      "2012-12-31     8.1  2012\n",
      "2013-12-31     7.4  2013\n",
      "2014-12-31     6.2  2014\n",
      "2015-12-31     5.3  2015\n",
      "2016-12-31     4.9  2016\n"
     ]
    }
   ],
   "source": [
    "\n",
    "\n",
    "# Rename columns\n",
    "unempl.columns = ['Indicator','date']\n",
    "\n",
    "# Set the unemployment series as a float (rather than string)\n",
    "unempl.unempl = unempl.unempl.astype(float)\n",
    "\n",
    "# Read the dates as quarters and set as the dataframe index\n",
    "rng = pd.date_range(pd.to_datetime(unempl.date[0]), periods=len(unempl.index), freq='A')\n",
    "unempl = unempl.set_index(pd.DatetimeIndex(rng))\n",
    "#del auxp['date']\n",
    "\n",
    "# Show last five rows\n",
    "print(unempl.tail())"
   ]
  },
  {
   "cell_type": "code",
   "execution_count": 17,
   "metadata": {
    "collapsed": false
   },
   "outputs": [
    {
     "data": {
      "image/png": "[encoded data removed]",
      "text/plain": [
       "<matplotlib.figure.Figure at 0x10e348fd0>"
      ]
     },
     "metadata": {},
     "output_type": "display_data"
    }
   ],
   "source": [
    "# import matplotlib and pyplot\n",
    "import matplotlib as mpl\n",
    "import matplotlib.pyplot as plt\n",
    "%matplotlib inline\n",
    "\n",
    "# Create line plot and add labels and title\n",
    "unempl.unempl.plot(grid=True, figsize=(9, 5), color=\"orange\", linewidth=2,)\n",
    "plt.ylabel('Unemployment rate (percent)')\n",
    "plt.xlabel('Year')\n",
    "plt.title('United States: Unemployment rate (percent)');"
   ]
  },
  {
   "cell_type": "code",
   "execution_count": null,
   "metadata": {
    "collapsed": true
   },
   "outputs": [],
   "source": []
  }
 ],
 "metadata": {
  "anaconda-cloud": {},
  "kernelspec": {
   "display_name": "Python 3",
   "language": "python",
   "name": "python3"
  },
  "language_info": {
   "codemirror_mode": {
    "name": "ipython",
    "version": 3
   },
   "file_extension": ".py",
   "mimetype": "text/x-python",
   "name": "python",
   "nbconvert_exporter": "python",
   "pygments_lexer": "ipython3",
   "version": "3.5.2"
  }
 },
 "nbformat": 4,
 "nbformat_minor": 2
}
